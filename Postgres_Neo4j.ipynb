{
 "cells": [
  {
   "cell_type": "markdown",
   "metadata": {},
   "source": [
    "# Connecting to Postgress database"
   ]
  },
  {
   "cell_type": "code",
   "execution_count": 4,
   "metadata": {},
   "outputs": [
    {
     "name": "stdout",
     "output_type": "stream",
     "text": [
      "Requirement already satisfied: psycopg2 in c:\\users\\elmendez\\anaconda3\\lib\\site-packages (2.9.4)\n",
      "Requirement already satisfied: pygresql in c:\\users\\elmendez\\anaconda3\\lib\\site-packages (5.2.4)\n",
      "Collecting neo4j\n",
      "  Downloading neo4j-5.1.0.tar.gz (173 kB)\n",
      "Requirement already satisfied: pytz in c:\\users\\elmendez\\anaconda3\\lib\\site-packages (from neo4j) (2020.1)\n",
      "Building wheels for collected packages: neo4j\n",
      "  Building wheel for neo4j (setup.py): started\n",
      "  Building wheel for neo4j (setup.py): finished with status 'done'\n",
      "  Created wheel for neo4j: filename=neo4j-5.1.0-py3-none-any.whl size=248079 sha256=1df75c0dcdd09a8e4334bfb61c4055c1fb62d050d7c68814204e6d9ae7fdbdd5\n",
      "  Stored in directory: c:\\users\\elmendez\\appdata\\local\\pip\\cache\\wheels\\b0\\8b\\7c\\2880b7e278f6f2b9c2f9d8c4cd6415433d894fd7833d28701d\n",
      "Successfully built neo4j\n",
      "Installing collected packages: neo4j\n",
      "Successfully installed neo4j-5.1.0\n"
     ]
    }
   ],
   "source": [
    "!pip install psycopg2\n",
    "!pip install pygresql\n",
    "!pip install neo4j"
   ]
  },
  {
   "cell_type": "markdown",
   "metadata": {},
   "source": [
    "Import modules"
   ]
  },
  {
   "cell_type": "code",
   "execution_count": 2,
   "metadata": {},
   "outputs": [],
   "source": [
    "import psycopg2\n",
    "from tkinter import *"
   ]
  },
  {
   "cell_type": "code",
   "execution_count": 3,
   "metadata": {},
   "outputs": [],
   "source": [
    "\n",
    "def connect():\n",
    "    \"\"\" Connect to the PostreSQL database server \"\"\"\n",
    "    conn = psycopg2.connect(\n",
    "    host=\"localhost\",\n",
    "    database=\"PTB_REPORTS\",\n",
    "    user=\"postgres\",\n",
    "    password=\"Olor2020\")\n",
    "    \n",
    "    cur = conn.cursor()\n",
    "    \n",
    "    cur.execute('''SELECT * FROM public.\"PTB_Reports\"''')\n",
    "    i=1\n",
    "    list=[]\n",
    "    for record in cur.fetchall():\n",
    "        #print(i,record[1],record[4])\n",
    "        i = i=1\n",
    "        list.append(record[1])\n",
    "#    query_results = cur.fetchall()\n",
    "#    print(query_results)\n",
    "\n",
    "    return(list)\n",
    "\n",
    "# Change the label text\n",
    "def show():\n",
    "    label.config(text = clicked.get())\n",
    "    \n",
    "\n",
    "# Create report list\n",
    "ReportList=[]\n",
    "\n",
    "if __name__ == '__main__':\n",
    "    ReportList = connect()\n",
    "\n",
    "#print(ReportList)\n",
    "# create object\n",
    "root=Tk()\n",
    "\n",
    "# Adjust size\n",
    "root.geometry(\"200x200\")\n",
    "\n",
    "# Datatype of menu text\n",
    "clicked = StringVar()\n",
    "\n",
    "# initial menu text\n",
    "clicked.set(\"HOG Provincial Summary\")\n",
    "\n",
    "# create dropdown menu\n",
    "drop = OptionMenu(root, clicked, *ReportList)\n",
    "drop.pack()\n",
    "\n",
    "# create button, it will change label text\n",
    "button = Button(root, text = \"click Me\", command = show).pack()\n",
    "\n",
    "# create label\n",
    "label = Label(root, text = \" \")\n",
    "\n",
    "# Execute tkinter\n",
    "root.mainloop()"
   ]
  },
  {
   "cell_type": "code",
   "execution_count": 7,
   "metadata": {},
   "outputs": [
    {
     "name": "stderr",
     "output_type": "stream",
     "text": [
      "<ipython-input-7-d52b81122e2d>:15: DeprecationWarning: write_transaction has been renamed to execute_write\n",
      "  session.write_transaction(create_person, \"Alice\")\n",
      "Unable to retrieve routing information\n",
      "Transaction failed and will be retried in 1.068616561079374s (Unable to retrieve routing information)\n",
      "Unable to retrieve routing information\n",
      "Transaction failed and will be retried in 2.0626920808509928s (Unable to retrieve routing information)\n",
      "Unable to retrieve routing information\n",
      "Transaction failed and will be retried in 4.591394045920502s (Unable to retrieve routing information)\n",
      "Failed to write data to connection ResolvedIPv4Address(('127.0.0.1', 7687)) (IPv4Address(('127.0.0.1', 7687)))\n",
      "Failed to write data to connection ResolvedIPv4Address(('127.0.0.1', 7687)) (IPv4Address(('127.0.0.1', 7687)))\n",
      "Failed to write data to connection ResolvedIPv4Address(('127.0.0.1', 7687)) (IPv4Address(('127.0.0.1', 7687)))\n",
      "Unable to retrieve routing information\n",
      "Transaction failed and will be retried in 7.159652260424815s (Unable to retrieve routing information)\n",
      "Unable to retrieve routing information\n",
      "Transaction failed and will be retried in 13.208835043410984s (Unable to retrieve routing information)\n",
      "Unable to retrieve routing information\n"
     ]
    },
    {
     "ename": "ServiceUnavailable",
     "evalue": "Unable to retrieve routing information",
     "output_type": "error",
     "traceback": [
      "\u001b[1;31m---------------------------------------------------------------------------\u001b[0m",
      "\u001b[1;31mServiceUnavailable\u001b[0m                        Traceback (most recent call last)",
      "\u001b[1;32m<ipython-input-7-d52b81122e2d>\u001b[0m in \u001b[0;36m<module>\u001b[1;34m\u001b[0m\n\u001b[0;32m     13\u001b[0m \u001b[1;33m\u001b[0m\u001b[0m\n\u001b[0;32m     14\u001b[0m \u001b[1;32mwith\u001b[0m \u001b[0mdriver\u001b[0m\u001b[1;33m.\u001b[0m\u001b[0msession\u001b[0m\u001b[1;33m(\u001b[0m\u001b[1;33m)\u001b[0m \u001b[1;32mas\u001b[0m \u001b[0msession\u001b[0m\u001b[1;33m:\u001b[0m\u001b[1;33m\u001b[0m\u001b[1;33m\u001b[0m\u001b[0m\n\u001b[1;32m---> 15\u001b[1;33m     \u001b[0msession\u001b[0m\u001b[1;33m.\u001b[0m\u001b[0mwrite_transaction\u001b[0m\u001b[1;33m(\u001b[0m\u001b[0mcreate_person\u001b[0m\u001b[1;33m,\u001b[0m \u001b[1;34m\"Alice\"\u001b[0m\u001b[1;33m)\u001b[0m\u001b[1;33m\u001b[0m\u001b[1;33m\u001b[0m\u001b[0m\n\u001b[0m\u001b[0;32m     16\u001b[0m     \u001b[0msession\u001b[0m\u001b[1;33m.\u001b[0m\u001b[0mwrite_transaction\u001b[0m\u001b[1;33m(\u001b[0m\u001b[0mcreate_friend_of\u001b[0m\u001b[1;33m,\u001b[0m \u001b[1;34m\"Alice\"\u001b[0m\u001b[1;33m,\u001b[0m \u001b[1;34m\"Bob\"\u001b[0m\u001b[1;33m)\u001b[0m\u001b[1;33m\u001b[0m\u001b[1;33m\u001b[0m\u001b[0m\n\u001b[0;32m     17\u001b[0m     \u001b[0msession\u001b[0m\u001b[1;33m.\u001b[0m\u001b[0mwrite_transaction\u001b[0m\u001b[1;33m(\u001b[0m\u001b[0mcreate_friend_of\u001b[0m\u001b[1;33m,\u001b[0m \u001b[1;34m\"Alice\"\u001b[0m\u001b[1;33m,\u001b[0m \u001b[1;34m\"Carl\"\u001b[0m\u001b[1;33m)\u001b[0m\u001b[1;33m\u001b[0m\u001b[1;33m\u001b[0m\u001b[0m\n",
      "\u001b[1;32m~\\Anaconda3\\lib\\site-packages\\neo4j\\_meta.py\u001b[0m in \u001b[0;36minner\u001b[1;34m(*args, **kwargs)\u001b[0m\n\u001b[0;32m     79\u001b[0m             \u001b[1;32mdef\u001b[0m \u001b[0minner\u001b[0m\u001b[1;33m(\u001b[0m\u001b[1;33m*\u001b[0m\u001b[0margs\u001b[0m\u001b[1;33m,\u001b[0m \u001b[1;33m**\u001b[0m\u001b[0mkwargs\u001b[0m\u001b[1;33m)\u001b[0m\u001b[1;33m:\u001b[0m\u001b[1;33m\u001b[0m\u001b[1;33m\u001b[0m\u001b[0m\n\u001b[0;32m     80\u001b[0m                 \u001b[0mdeprecation_warn\u001b[0m\u001b[1;33m(\u001b[0m\u001b[0mmessage\u001b[0m\u001b[1;33m,\u001b[0m \u001b[0mstack_level\u001b[0m\u001b[1;33m=\u001b[0m\u001b[1;36m2\u001b[0m\u001b[1;33m)\u001b[0m\u001b[1;33m\u001b[0m\u001b[1;33m\u001b[0m\u001b[0m\n\u001b[1;32m---> 81\u001b[1;33m                 \u001b[1;32mreturn\u001b[0m \u001b[0mf\u001b[0m\u001b[1;33m(\u001b[0m\u001b[1;33m*\u001b[0m\u001b[0margs\u001b[0m\u001b[1;33m,\u001b[0m \u001b[1;33m**\u001b[0m\u001b[0mkwargs\u001b[0m\u001b[1;33m)\u001b[0m\u001b[1;33m\u001b[0m\u001b[1;33m\u001b[0m\u001b[0m\n\u001b[0m\u001b[0;32m     82\u001b[0m \u001b[1;33m\u001b[0m\u001b[0m\n\u001b[0;32m     83\u001b[0m             \u001b[1;32mreturn\u001b[0m \u001b[0minner\u001b[0m\u001b[1;33m\u001b[0m\u001b[1;33m\u001b[0m\u001b[0m\n",
      "\u001b[1;32m~\\Anaconda3\\lib\\site-packages\\neo4j\\_sync\\work\\session.py\u001b[0m in \u001b[0;36mwrite_transaction\u001b[1;34m(self, transaction_function, *args, **kwargs)\u001b[0m\n\u001b[0;32m    751\u001b[0m             \u001b[0mMethod\u001b[0m \u001b[0mwas\u001b[0m \u001b[0mrenamed\u001b[0m \u001b[0mto\u001b[0m \u001b[1;33m:\u001b[0m\u001b[0mmeth\u001b[0m\u001b[1;33m:\u001b[0m\u001b[0;31m`\u001b[0m\u001b[1;33m.\u001b[0m\u001b[0mexecute_write\u001b[0m\u001b[0;31m`\u001b[0m\u001b[1;33m.\u001b[0m\u001b[1;33m\u001b[0m\u001b[1;33m\u001b[0m\u001b[0m\n\u001b[0;32m    752\u001b[0m         \"\"\"\n\u001b[1;32m--> 753\u001b[1;33m         return self._run_transaction(\n\u001b[0m\u001b[0;32m    754\u001b[0m             \u001b[0mWRITE_ACCESS\u001b[0m\u001b[1;33m,\u001b[0m \u001b[0mtransaction_function\u001b[0m\u001b[1;33m,\u001b[0m \u001b[1;33m*\u001b[0m\u001b[0margs\u001b[0m\u001b[1;33m,\u001b[0m \u001b[1;33m**\u001b[0m\u001b[0mkwargs\u001b[0m\u001b[1;33m\u001b[0m\u001b[1;33m\u001b[0m\u001b[0m\n\u001b[0;32m    755\u001b[0m         )\n",
      "\u001b[1;32m~\\Anaconda3\\lib\\site-packages\\neo4j\\_sync\\work\\session.py\u001b[0m in \u001b[0;36m_run_transaction\u001b[1;34m(self, access_mode, transaction_function, *args, **kwargs)\u001b[0m\n\u001b[0;32m    515\u001b[0m \u001b[1;33m\u001b[0m\u001b[0m\n\u001b[0;32m    516\u001b[0m         \u001b[1;32mif\u001b[0m \u001b[0merrors\u001b[0m\u001b[1;33m:\u001b[0m\u001b[1;33m\u001b[0m\u001b[1;33m\u001b[0m\u001b[0m\n\u001b[1;32m--> 517\u001b[1;33m             \u001b[1;32mraise\u001b[0m \u001b[0merrors\u001b[0m\u001b[1;33m[\u001b[0m\u001b[1;33m-\u001b[0m\u001b[1;36m1\u001b[0m\u001b[1;33m]\u001b[0m\u001b[1;33m\u001b[0m\u001b[1;33m\u001b[0m\u001b[0m\n\u001b[0m\u001b[0;32m    518\u001b[0m         \u001b[1;32melse\u001b[0m\u001b[1;33m:\u001b[0m\u001b[1;33m\u001b[0m\u001b[1;33m\u001b[0m\u001b[0m\n\u001b[0;32m    519\u001b[0m             \u001b[1;32mraise\u001b[0m \u001b[0mServiceUnavailable\u001b[0m\u001b[1;33m(\u001b[0m\u001b[1;34m\"Transaction failed\"\u001b[0m\u001b[1;33m)\u001b[0m\u001b[1;33m\u001b[0m\u001b[1;33m\u001b[0m\u001b[0m\n",
      "\u001b[1;32m~\\Anaconda3\\lib\\site-packages\\neo4j\\_sync\\work\\session.py\u001b[0m in \u001b[0;36m_run_transaction\u001b[1;34m(self, access_mode, transaction_function, *args, **kwargs)\u001b[0m\n\u001b[0;32m    472\u001b[0m         \u001b[1;32mwhile\u001b[0m \u001b[1;32mTrue\u001b[0m\u001b[1;33m:\u001b[0m\u001b[1;33m\u001b[0m\u001b[1;33m\u001b[0m\u001b[0m\n\u001b[0;32m    473\u001b[0m             \u001b[1;32mtry\u001b[0m\u001b[1;33m:\u001b[0m\u001b[1;33m\u001b[0m\u001b[1;33m\u001b[0m\u001b[0m\n\u001b[1;32m--> 474\u001b[1;33m                 self._open_transaction(\n\u001b[0m\u001b[0;32m    475\u001b[0m                     \u001b[0mtx_cls\u001b[0m\u001b[1;33m=\u001b[0m\u001b[0mManagedTransaction\u001b[0m\u001b[1;33m,\u001b[0m\u001b[1;33m\u001b[0m\u001b[1;33m\u001b[0m\u001b[0m\n\u001b[0;32m    476\u001b[0m                     \u001b[0maccess_mode\u001b[0m\u001b[1;33m=\u001b[0m\u001b[0maccess_mode\u001b[0m\u001b[1;33m,\u001b[0m \u001b[0mmetadata\u001b[0m\u001b[1;33m=\u001b[0m\u001b[0mmetadata\u001b[0m\u001b[1;33m,\u001b[0m\u001b[1;33m\u001b[0m\u001b[1;33m\u001b[0m\u001b[0m\n",
      "\u001b[1;32m~\\Anaconda3\\lib\\site-packages\\neo4j\\_sync\\work\\session.py\u001b[0m in \u001b[0;36m_open_transaction\u001b[1;34m(self, tx_cls, access_mode, metadata, timeout)\u001b[0m\n\u001b[0;32m    389\u001b[0m         \u001b[0mself\u001b[0m\u001b[1;33m,\u001b[0m \u001b[1;33m*\u001b[0m\u001b[1;33m,\u001b[0m \u001b[0mtx_cls\u001b[0m\u001b[1;33m,\u001b[0m \u001b[0maccess_mode\u001b[0m\u001b[1;33m,\u001b[0m \u001b[0mmetadata\u001b[0m\u001b[1;33m=\u001b[0m\u001b[1;32mNone\u001b[0m\u001b[1;33m,\u001b[0m \u001b[0mtimeout\u001b[0m\u001b[1;33m=\u001b[0m\u001b[1;32mNone\u001b[0m\u001b[1;33m\u001b[0m\u001b[1;33m\u001b[0m\u001b[0m\n\u001b[0;32m    390\u001b[0m     ):\n\u001b[1;32m--> 391\u001b[1;33m         \u001b[0mself\u001b[0m\u001b[1;33m.\u001b[0m\u001b[0m_connect\u001b[0m\u001b[1;33m(\u001b[0m\u001b[0maccess_mode\u001b[0m\u001b[1;33m=\u001b[0m\u001b[0maccess_mode\u001b[0m\u001b[1;33m)\u001b[0m\u001b[1;33m\u001b[0m\u001b[1;33m\u001b[0m\u001b[0m\n\u001b[0m\u001b[0;32m    392\u001b[0m         self._transaction = tx_cls(\n\u001b[0;32m    393\u001b[0m             \u001b[0mself\u001b[0m\u001b[1;33m.\u001b[0m\u001b[0m_connection\u001b[0m\u001b[1;33m,\u001b[0m \u001b[0mself\u001b[0m\u001b[1;33m.\u001b[0m\u001b[0m_config\u001b[0m\u001b[1;33m.\u001b[0m\u001b[0mfetch_size\u001b[0m\u001b[1;33m,\u001b[0m\u001b[1;33m\u001b[0m\u001b[1;33m\u001b[0m\u001b[0m\n",
      "\u001b[1;32m~\\Anaconda3\\lib\\site-packages\\neo4j\\_sync\\work\\session.py\u001b[0m in \u001b[0;36m_connect\u001b[1;34m(self, access_mode, **access_kwargs)\u001b[0m\n\u001b[0;32m    119\u001b[0m             \u001b[0maccess_mode\u001b[0m \u001b[1;33m=\u001b[0m \u001b[0mself\u001b[0m\u001b[1;33m.\u001b[0m\u001b[0m_config\u001b[0m\u001b[1;33m.\u001b[0m\u001b[0mdefault_access_mode\u001b[0m\u001b[1;33m\u001b[0m\u001b[1;33m\u001b[0m\u001b[0m\n\u001b[0;32m    120\u001b[0m         \u001b[1;32mtry\u001b[0m\u001b[1;33m:\u001b[0m\u001b[1;33m\u001b[0m\u001b[1;33m\u001b[0m\u001b[0m\n\u001b[1;32m--> 121\u001b[1;33m             \u001b[0msuper\u001b[0m\u001b[1;33m(\u001b[0m\u001b[1;33m)\u001b[0m\u001b[1;33m.\u001b[0m\u001b[0m_connect\u001b[0m\u001b[1;33m(\u001b[0m\u001b[0maccess_mode\u001b[0m\u001b[1;33m,\u001b[0m \u001b[1;33m**\u001b[0m\u001b[0maccess_kwargs\u001b[0m\u001b[1;33m)\u001b[0m\u001b[1;33m\u001b[0m\u001b[1;33m\u001b[0m\u001b[0m\n\u001b[0m\u001b[0;32m    122\u001b[0m         \u001b[1;32mexcept\u001b[0m \u001b[0masyncio\u001b[0m\u001b[1;33m.\u001b[0m\u001b[0mCancelledError\u001b[0m\u001b[1;33m:\u001b[0m\u001b[1;33m\u001b[0m\u001b[1;33m\u001b[0m\u001b[0m\n\u001b[0;32m    123\u001b[0m             \u001b[0mself\u001b[0m\u001b[1;33m.\u001b[0m\u001b[0m_handle_cancellation\u001b[0m\u001b[1;33m(\u001b[0m\u001b[0mmessage\u001b[0m\u001b[1;33m=\u001b[0m\u001b[1;34m\"_connect\"\u001b[0m\u001b[1;33m)\u001b[0m\u001b[1;33m\u001b[0m\u001b[1;33m\u001b[0m\u001b[0m\n",
      "\u001b[1;32m~\\Anaconda3\\lib\\site-packages\\neo4j\\_sync\\work\\workspace.py\u001b[0m in \u001b[0;36m_connect\u001b[1;34m(self, access_mode, **acquire_kwargs)\u001b[0m\n\u001b[0;32m    177\u001b[0m                 \u001b[1;31m# we shall use this database explicitly for all subsequent\u001b[0m\u001b[1;33m\u001b[0m\u001b[1;33m\u001b[0m\u001b[1;33m\u001b[0m\u001b[0m\n\u001b[0;32m    178\u001b[0m                 \u001b[1;31m# actions within this session.\u001b[0m\u001b[1;33m\u001b[0m\u001b[1;33m\u001b[0m\u001b[1;33m\u001b[0m\u001b[0m\n\u001b[1;32m--> 179\u001b[1;33m                 self._pool.update_routing_table(\n\u001b[0m\u001b[0;32m    180\u001b[0m                     \u001b[0mdatabase\u001b[0m\u001b[1;33m=\u001b[0m\u001b[0mself\u001b[0m\u001b[1;33m.\u001b[0m\u001b[0m_config\u001b[0m\u001b[1;33m.\u001b[0m\u001b[0mdatabase\u001b[0m\u001b[1;33m,\u001b[0m\u001b[1;33m\u001b[0m\u001b[1;33m\u001b[0m\u001b[0m\n\u001b[0;32m    181\u001b[0m                     \u001b[0mimp_user\u001b[0m\u001b[1;33m=\u001b[0m\u001b[0mself\u001b[0m\u001b[1;33m.\u001b[0m\u001b[0m_config\u001b[0m\u001b[1;33m.\u001b[0m\u001b[0mimpersonated_user\u001b[0m\u001b[1;33m,\u001b[0m\u001b[1;33m\u001b[0m\u001b[1;33m\u001b[0m\u001b[0m\n",
      "\u001b[1;32m~\\Anaconda3\\lib\\site-packages\\neo4j\\_sync\\io\\_pool.py\u001b[0m in \u001b[0;36mupdate_routing_table\u001b[1;34m(self, database, imp_user, bookmarks, acquisition_timeout, database_callback)\u001b[0m\n\u001b[0;32m    679\u001b[0m             \u001b[1;31m# None of the routers have been successful, so just fail\u001b[0m\u001b[1;33m\u001b[0m\u001b[1;33m\u001b[0m\u001b[1;33m\u001b[0m\u001b[0m\n\u001b[0;32m    680\u001b[0m             \u001b[0mlog\u001b[0m\u001b[1;33m.\u001b[0m\u001b[0merror\u001b[0m\u001b[1;33m(\u001b[0m\u001b[1;34m\"Unable to retrieve routing information\"\u001b[0m\u001b[1;33m)\u001b[0m\u001b[1;33m\u001b[0m\u001b[1;33m\u001b[0m\u001b[0m\n\u001b[1;32m--> 681\u001b[1;33m             \u001b[1;32mraise\u001b[0m \u001b[0mServiceUnavailable\u001b[0m\u001b[1;33m(\u001b[0m\u001b[1;34m\"Unable to retrieve routing information\"\u001b[0m\u001b[1;33m)\u001b[0m\u001b[1;33m\u001b[0m\u001b[1;33m\u001b[0m\u001b[0m\n\u001b[0m\u001b[0;32m    682\u001b[0m \u001b[1;33m\u001b[0m\u001b[0m\n\u001b[0;32m    683\u001b[0m     \u001b[1;32mdef\u001b[0m \u001b[0mupdate_connection_pool\u001b[0m\u001b[1;33m(\u001b[0m\u001b[0mself\u001b[0m\u001b[1;33m,\u001b[0m \u001b[1;33m*\u001b[0m\u001b[1;33m,\u001b[0m \u001b[0mdatabase\u001b[0m\u001b[1;33m)\u001b[0m\u001b[1;33m:\u001b[0m\u001b[1;33m\u001b[0m\u001b[1;33m\u001b[0m\u001b[0m\n",
      "\u001b[1;31mServiceUnavailable\u001b[0m: Unable to retrieve routing information"
     ]
    }
   ],
   "source": [
    "from neo4j import GraphDatabase\n",
    "\n",
    "uri = \"neo4j://localhost:7687\"\n",
    "driver = GraphDatabase.driver(uri, auth=(\"neo4j\"))\n",
    "\n",
    "def create_person(tx, name):\n",
    "    tx.run(\"CREATE (a:Person {name: $name})\", name=name)\n",
    "    \n",
    "def create_friend_of( tx, name, friend):\n",
    "    tx.run(\"MATCH (a:Person) WHERE a.name = $name \"\n",
    "           \"CREATE (a)-[:KNOWS]->(:Person {name: $friend})\",\n",
    "           name=name, friend=friend)\n",
    "    \n",
    "with driver.session() as session:\n",
    "    session.write_transaction(create_person, \"Alice\")\n",
    "    session.write_transaction(create_friend_of, \"Alice\", \"Bob\")\n",
    "    session.write_transaction(create_friend_of, \"Alice\", \"Carl\")\n",
    "    \n",
    "driver.close()"
   ]
  },
  {
   "cell_type": "code",
   "execution_count": null,
   "metadata": {},
   "outputs": [],
   "source": []
  }
 ],
 "metadata": {
  "kernelspec": {
   "display_name": "Python 3",
   "language": "python",
   "name": "python3"
  },
  "language_info": {
   "codemirror_mode": {
    "name": "ipython",
    "version": 3
   },
   "file_extension": ".py",
   "mimetype": "text/x-python",
   "name": "python",
   "nbconvert_exporter": "python",
   "pygments_lexer": "ipython3",
   "version": "3.8.5"
  }
 },
 "nbformat": 4,
 "nbformat_minor": 4
}
